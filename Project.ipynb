{
 "cells": [
  {
   "cell_type": "markdown",
   "metadata": {},
   "source": [
    "Chart from http://kworb.net/spotify/country/global_daily_totals.html"
   ]
  },
  {
   "cell_type": "code",
   "execution_count": 2,
   "metadata": {},
   "outputs": [
    {
     "name": "stdout",
     "output_type": "stream",
     "text": [
      "Solving environment: done\n",
      "\n",
      "\n",
      "==> WARNING: A newer version of conda exists. <==\n",
      "  current version: 4.4.8\n",
      "  latest version: 4.4.10\n",
      "\n",
      "Please update conda by running\n",
      "\n",
      "    $ conda update -n base conda\n",
      "\n",
      "\n",
      "\n",
      "# All requested packages already installed.\n",
      "\n"
     ]
    }
   ],
   "source": [
    "import sys\n",
    "!conda install --yes --prefix {sys.prefix} beautifulsoup4"
   ]
  },
  {
   "cell_type": "code",
   "execution_count": 3,
   "metadata": {
    "collapsed": true
   },
   "outputs": [],
   "source": [
    "import pandas as pd\n",
    "import requests\n",
    "import bs4\n",
    "from bs4 import BeautifulSoup"
   ]
  },
  {
   "cell_type": "markdown",
   "metadata": {},
   "source": [
    "## Starting to scrap chart (scraped 2/23/2018)\n",
    "chart covers form 2014/8/10 to 2018/02/21"
   ]
  },
  {
   "cell_type": "code",
   "execution_count": 11,
   "metadata": {
    "collapsed": true
   },
   "outputs": [],
   "source": [
    "url = \"http://kworb.net/spotify/country/global_daily_totals.html\"\n",
    "page = requests.get(url)\n",
    "soup = BeautifulSoup(page.content, 'html.parser')"
   ]
  },
  {
   "cell_type": "code",
   "execution_count": 12,
   "metadata": {
    "collapsed": true
   },
   "outputs": [],
   "source": [
    "assert chart\n",
    "assert page\n",
    "assert soup"
   ]
  },
  {
   "cell_type": "code",
   "execution_count": 13,
   "metadata": {},
   "outputs": [
    {
     "data": {
      "text/plain": [
       "'Spotify Daily Chart Totals - Global'"
      ]
     },
     "execution_count": 13,
     "metadata": {},
     "output_type": "execute_result"
    }
   ],
   "source": [
    "title_page = soup.title.string\n",
    "title_page"
   ]
  },
  {
   "cell_type": "code",
   "execution_count": 17,
   "metadata": {},
   "outputs": [
    {
     "data": {
      "text/plain": [
       "<table class=\"sortable totals\"><colgroup><col class=\"col-tpos\"/><col class=\"col-title\"/><col class=\"col-period\"/><col class=\"col-period2\"/><col class=\"col-peak\"/><col class=\"col-peak2\"/><col class=\"col-streams\"/></colgroup><col class=\"col-total\"/></table>"
      ]
     },
     "execution_count": 17,
     "metadata": {},
     "output_type": "execute_result"
    }
   ],
   "source": [
    "table = soup.find('table', {'class':'sortable totals'})\n",
    "table"
   ]
  },
  {
   "cell_type": "code",
   "execution_count": 37,
   "metadata": {},
   "outputs": [],
   "source": [
    "#extract the data from the table into lists\n",
    "\n",
    "#pos = position of song\n",
    "#artist_title = artist and song title\n",
    "#days = days since song release\n",
    "#t10 = days on top10 chart\n",
    "#pk = peak position\n",
    "#total = total number of streams\n",
    "\n",
    "pos, artist_title, days, t10, pk, total = [], [], [], [], [], []\n",
    "\n",
    "for row in table.findAll('tr'):\n",
    "    \n",
    "    cells = row.findAll('td')\n",
    "    print(cells[0].text)\n",
    "    break\n",
    "    \n",
    "    \n",
    "    #skips rows that aren't 10 columns long\n",
    "    if len(cells) != 7:\n",
    "        continue;\n",
    "        \n",
    "    #append to correpsonding list\n",
    "    try:\n",
    "        pos.append(cells[0].find(text=True).text)\n",
    "        artist_title.append(cells[1].find(text=True))\n",
    "        days.append(cells[2].find(text=True))\n",
    "        t10.append(cells[3].find(text=True))\n",
    "        pk.append(cells[4].find(text=True))\n",
    "        total.append(cells[6].find(text=True))\n",
    "    except:\n",
    "        break"
   ]
  },
  {
   "cell_type": "code",
   "execution_count": 38,
   "metadata": {},
   "outputs": [
    {
     "data": {
      "text/html": [
       "<div>\n",
       "<style>\n",
       "    .dataframe thead tr:only-child th {\n",
       "        text-align: right;\n",
       "    }\n",
       "\n",
       "    .dataframe thead th {\n",
       "        text-align: left;\n",
       "    }\n",
       "\n",
       "    .dataframe tbody tr th {\n",
       "        vertical-align: top;\n",
       "    }\n",
       "</style>\n",
       "<table border=\"1\" class=\"dataframe\">\n",
       "  <thead>\n",
       "    <tr style=\"text-align: right;\">\n",
       "      <th></th>\n",
       "      <th>Artist_Title</th>\n",
       "      <th>Days</th>\n",
       "      <th>Peak</th>\n",
       "      <th>Top10</th>\n",
       "      <th>Total</th>\n",
       "    </tr>\n",
       "    <tr>\n",
       "      <th>Pos</th>\n",
       "      <th></th>\n",
       "      <th></th>\n",
       "      <th></th>\n",
       "      <th></th>\n",
       "      <th></th>\n",
       "    </tr>\n",
       "  </thead>\n",
       "  <tbody>\n",
       "  </tbody>\n",
       "</table>\n",
       "</div>"
      ],
      "text/plain": [
       "Empty DataFrame\n",
       "Columns: [Artist_Title, Days, Peak, Top10, Total]\n",
       "Index: []"
      ]
     },
     "execution_count": 38,
     "metadata": {},
     "output_type": "execute_result"
    }
   ],
   "source": [
    "chart_df = pd.DataFrame({'Pos': pos, 'Artist_Title': artist_title, 'Days': days, 'Top10': t10, 'Peak': pk, 'Total': total})\n",
    "chart_df = chart_df.set_index('Pos')\n",
    "chart_df"
   ]
  },
  {
   "cell_type": "code",
   "execution_count": null,
   "metadata": {
    "collapsed": true
   },
   "outputs": [],
   "source": []
  }
 ],
 "metadata": {
  "kernelspec": {
   "display_name": "Python 3",
   "language": "python",
   "name": "python3"
  },
  "language_info": {
   "codemirror_mode": {
    "name": "ipython",
    "version": 3
   },
   "file_extension": ".py",
   "mimetype": "text/x-python",
   "name": "python",
   "nbconvert_exporter": "python",
   "pygments_lexer": "ipython3",
   "version": "3.6.3"
  }
 },
 "nbformat": 4,
 "nbformat_minor": 2
}
