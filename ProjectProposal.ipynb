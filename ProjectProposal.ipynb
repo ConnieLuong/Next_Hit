{
 "cells": [
  {
   "cell_type": "markdown",
   "metadata": {},
   "source": [
    "# COGS 108 - Project Proposal"
   ]
  },
  {
   "cell_type": "markdown",
   "metadata": {},
   "source": [
    "## Important\n",
    "\n",
    "- Make sure all group members (3-5 people) are listed in the group members section.\n",
    "- ONE, and only one, member of your group should upload this notebook to TritonED. \n",
    "- Each member of the group will receive the same grade on this assignment. \n",
    "- Keep the file name the same: submit the file 'ProjectProposal.ipynb'"
   ]
  },
  {
   "cell_type": "markdown",
   "metadata": {},
   "source": [
    "## Overview"
   ]
  },
  {
   "cell_type": "markdown",
   "metadata": {},
   "source": [
    "Read the project description and detailed instructions for this assignment in the 'ProjectOutline' document."
   ]
  },
  {
   "cell_type": "markdown",
   "metadata": {},
   "source": [
    "## Group Members: Fill in the Student IDs of each group member here\n",
    "\n",
    "Replace the lines below to list each persons full student ID. Add lines as needed for your group size, and make sure each ID is listed on a separate line. \n",
    "\n",
    "- A13001376\n",
    "- A13564644\n",
    "- A12351770\n",
    "- A12218724\n",
    "- A14222539\n",
    "- A12301049"
   ]
  },
  {
   "cell_type": "markdown",
   "metadata": {},
   "source": [
    "### Research Question\n",
    "\n",
    "What is your research question? (1-2 sentences)"
   ]
  },
  {
   "cell_type": "markdown",
   "metadata": {},
   "source": [
    "What features of a song make it more popular? Such features include danceability, energy, key, loudness, mode, speechiness, acousticness,  etc."
   ]
  },
  {
   "cell_type": "markdown",
   "metadata": {},
   "source": [
    "### Hypothesis\n",
    "\n",
    "What is your main hypothesis and predictions? (2-3 sentences)"
   ]
  },
  {
   "cell_type": "markdown",
   "metadata": {},
   "source": [
    "We predict that songs that make the charts will have certain features in common over others. For example, popular songs may have a similar degree of medium-high danceability and energy.\n"
   ]
  },
  {
   "cell_type": "markdown",
   "metadata": {},
   "source": [
    "### Dataset(s)\n",
    "\n",
    "What data will you use to answer your question? Describe the dataset(s) in terms of number of observations, what kind of features it contains, etc. You must use at least one dataset containing at least approximately 1000 observations (if your data are smaller but you feel they are sufficient, email Prof. Voytek). You are welcome (and in fact recommended) to find multiple datasets! If you do so, describe each one, and briefly explain how you will combine them together. "
   ]
  },
  {
   "cell_type": "markdown",
   "metadata": {},
   "source": [
    "- Dataset Name: Spotify Daily Chart Totals - Global\n",
    "- Link to the dataset: http://kworb.net/spotify/country/global_daily_totals.html\n",
    "\n",
    "- Number of observations: 3129\n",
    "\n",
    "This is a dataset that provides information of the names, ranks, numbers of days on the chart, peak values, peak stream numbers, and total stream numbers of the popular songs in the global scale. This dataset covers charts from 2014/08/10 to 2018/02/16."
   ]
  },
  {
   "cell_type": "markdown",
   "metadata": {},
   "source": [
    "### Background and Prior Work\n",
    "\n",
    "Why is this question of interest, what background information led you to your hypothesis, and why is this important?\n",
    "\n",
    "Find some relevant prior work, and reference those sources. Even if you think you have a totally novel question, find the most similar prior work that you can and discuss how it relates to your project. \n",
    "\n",
    "References can be research publications, but they need not be. Blogs, github repositories, company websites, etc., are all viable references if they are relevant to your project.\n",
    "\n",
    "(2-3 paragraphs, including at least 2 references)"
   ]
  },
  {
   "cell_type": "markdown",
   "metadata": {},
   "source": [
    "Big music companies, such as Spotify and Pandora, find music for consumers that cater to their individual taste. These companies use data to predict the type of music that listeners would enjoy. For example, Spotify can create radios for specific artists, albums, or tracks which helps users find new music to listen to based on the user’s listening history. How does Spotify figure this out? Each track comes with data on the key, tempo, energy, etc. With this data, Spotify can predict the type of music that best suits the user.\n",
    "\n",
    "Gathering data based on user preferences is also useful for determining which features of a song make a track popular. Using already known data, you could pinpoint what exactly makes pop music so popular. The fact that this information is out there is big, because artists and musicians could find out what kind of sounds could elicit a big response. This could help people in the music industry find out what trends in music are today.\n",
    "\n",
    "    \n",
    "References (include links):\n",
    "1. http://dataconomy.com/2016/01/will-big-data-write-the-next-hit-song/\n",
    "2. http://kaylinwalker.com/50-years-of-pop-music/ \n"
   ]
  },
  {
   "cell_type": "markdown",
   "metadata": {},
   "source": [
    "### Proposed Methods\n",
    "\n",
    "What methods will you use to analyze your data?\n",
    "\n",
    "- How 'clean' is the data? To the extent that it requires cleaning, how will you do so?\n",
    "- How will you analyze the data? Be as specific as you can. Briefly mention any pre-processing steps that are required for your methods (for example, checking data distributions and performing any transformations that may be required). Include a brief outline of how you will apply your chosen method(s). \n",
    "- What do you plan to report? Briefly mention any key visualizations you plan to create, and/or the kind of results you will be able to report that address your question (this could be, for example, the outcome of some statistical test(s), prediction error on a model, a model fit parameter, etc.).\n",
    "- Include a list of packages you expect to use for you project. If you plan to use packages we have not used in class, add a very brief description about them (a few words is sufficient). "
   ]
  },
  {
   "cell_type": "markdown",
   "metadata": {},
   "source": [
    "\n",
    "*Data Cleaning*\n",
    "\n",
    "Our data will need to be scraped of a table on a website (http://kworb.net/spotify/country/global_daily_totals.html). \n",
    "Because our data needs to eventually deal with the Spotify API, we will need to find the corresponding Spotify “id number” for each song in the table. Afterwards, we will need to use the “id number” to find the “attributes\" of each song, which can be easily assessed through the Spotify API. \n",
    "\n",
    "\n",
    "*Data Analysis*\n",
    "\n",
    "Since we want to analyze which attributes/characteristics of a song makes it more popular, we intend to graph and visualize our attribute data in the form of various graphs after we have cleaned it. The numbers representing the attributes tends to be rather small, so perhaps we might need to adjust them for a smoother and visually more apparent results. To better answer our question, we might also need to combine various attributes and see if a certain combination makes it out better among the songs. As a result, this will call for an addition of a new column, or possibly several new columns, for each song. Each column would thus represent a combination. The process of choosing the combinations of attributes will have to come after the initial comparison among individual attributes. After comparing them one-on-one, we might perhaps decide that a combination of the top three attributes is best. Then, we can decide whether ranking the songs by this combination, or some other, results in a nearly exact or extremely similar ranking as our initial data.\n",
    "\n",
    "\n",
    "*What to report*\n",
    "\n",
    "For now, we are leaning towards something like a bar graph. This will allow us to easily compare across many different attributes.\n",
    "\n",
    "Packages we plan to use:\n",
    "- BeautifulSoup\n",
    "- Matplotlib\n",
    "- Numpy\n",
    "- Pandas"
   ]
  },
  {
   "cell_type": "markdown",
   "metadata": {},
   "source": [
    "### Ethics and Privacy\n",
    "\n",
    "Briefly acknowledge and address any potential issues of ethics and privacy for the proposed project. In particular:\n",
    "- Do you have permission to use this data, for this purpose?\n",
    "- Are there privacy concerns regarding your datasets that you need to deal with, and/or terms of use that you need to comply with?\n",
    "- Are there potential biases in your dataset(s), in terms of who it composes, and how it was collected, that may be problematic in terms of it allowing for equitable analysis? (For example, does your data exclude particular populations, or is it likely to reflect particular human biases in a way that could be a problem?) \n",
    "- Are there any other issues related to your topic area, data, and/or analyses that are potentially problematic in terms of data privacy and equitable impact?\n",
    "- How will you handle any issues you identify?\n",
    "\n",
    "In terms of Ethics and Privacy of the research, it is appropriate to use the dataset we found from “kworb.net” in our project. Kworb.net is a personal website created by a data scientist whose nickname is Kworb. We are going to get our dataset from web scraping public available data that is being shared through his website. \n",
    "\n",
    "There might be potential biases in our dataset, since the definition of “Top Hit” varies. In our dataset, the popularity of one music piece is based on its number of streams on Spotify. Therefore, our predictions after analysis will more likely fit the taste of the Spotify users. However, since Spotify is a widely used music player. Its users construct a good sample representing the music interests of the general population.\n"
   ]
  },
  {
   "cell_type": "markdown",
   "metadata": {},
   "source": [
    "### Discussion\n",
    "\n",
    "Discuss your project, looking forward to what your results might mean, how they fit it in with what is already known, and what problems you may encounter. \n",
    "\n",
    "In particular:\n",
    "- If your analyses and hypotheses are correct, what will be the contribution of this project to the topic domain? \n",
    "- Alternatively, what will you do if you methods don't work and/or your hypotheses are wrong? \n",
    "- What are the potential pitfalls and potential confounds of your data and/or methods that may cause problems, and/or influence your interpretations?\n",
    "\n",
    "(2-3 paragraphs)"
   ]
  },
  {
   "cell_type": "markdown",
   "metadata": {},
   "source": [
    "If our analysis and hypothesis are correct, this project will help decode what makes a song a hit, and therefore can help people in the industry create songs that can succeed. This will make it much easier for music industry professionals to categorize music based on the features being analyzed, and then optimize certain features for each song’s benefit. We generally expect that higher danceability will lead to popularity, but if that is incorrect, we will simply learn what features actually do make a song popular.\n",
    "\n",
    "We may experience a number of pitfalls or confounds with our project because our hopes with the results are for predictive use, we can never be 100% sure that music consumption in the future will follow the same trends of the past.  We are also only using a dataset the covers a few years, which makes the predictive correlation a bit weaker. Also as far as our methods, we have to manually match up songs from the charts to the features list. Another potential problem is that since we are only using Spotify, there are songs from certain popular artists that aren’t in their data thus the data might be skewed to certain genres. For example, Taylor Swift isn’t on Spotify thus her type of music isn’t fully represented compared to the abundance of hip-hop, pop, etc.\n",
    " "
   ]
  }
 ],
 "metadata": {
  "kernelspec": {
   "display_name": "Python 3",
   "language": "python",
   "name": "python3"
  },
  "language_info": {
   "codemirror_mode": {
    "name": "ipython",
    "version": 3
   },
   "file_extension": ".py",
   "mimetype": "text/x-python",
   "name": "python",
   "nbconvert_exporter": "python",
   "pygments_lexer": "ipython3",
   "version": "3.6.3"
  }
 },
 "nbformat": 4,
 "nbformat_minor": 2
}
